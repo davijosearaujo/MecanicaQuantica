{
 "cells": [
  {
   "cell_type": "markdown",
   "metadata": {},
   "source": [
    "## __Guia de soluções:__ Mecânica Quântica"
   ]
  },
  {
   "cell_type": "markdown",
   "metadata": {},
   "source": [
    "# Sumário\n",
    "- [Introdução](#Separação-de-variáveis-e-estados-estacionários)\n",
    "- [Metodologia](#Metodologia)\n",
    "- [Resultados](#Resultados)\n",
    "- [Conclusão](#Conclusão)\n"
   ]
  },
  {
   "cell_type": "markdown",
   "metadata": {},
   "source": [
    "### Separação de variáveis e estados estacionários"
   ]
  },
  {
   "cell_type": "markdown",
   "metadata": {},
   "source": [
    "Sabemos que toda função de onda deve ser solução da equação de Schrödinger:\n",
    "\n",
    "$$i\\hbar \\frac{\\partial \\ \\psi (\\vec{r}, t)}{\\partial t} = - \\frac{\\hbar^2}{2m}\\nabla^2 \\psi (\\vec{r}, t) + V(\\vec{r}, t)\\psi (\\vec{r}, t)$$"
   ]
  },
  {
   "cell_type": "markdown",
   "metadata": {},
   "source": [
    "Para sistemas cujo potencial é independente do tempo, embora a função de onda $\\psi$ possua dependência temporal, a densidade de probabilidade $|\\psi|^2$ não tem. Podemos verificar isso buscando um regime de separação de variáveis da equação de Schrödinger.\n",
    "\n",
    "* __Passo 1:__ Verificar se $\\psi(\\vec{r}, t)$ escrito como produto entre uma função espacial e uma função temporal é solução da equação de Schrödinger.\n",
    "\n",
    "$$\\psi(\\vec{r}, t)= \\varphi(\\vec{r})\\chi(t)$$\n",
    "\n",
    "* __Passo 2:__ Para verificar, basta fazer a substituição proposta:\n",
    "\n",
    "$$i\\hbar \\frac{\\partial \\ \\varphi(\\vec{r})\\chi(t)}{\\partial t} = - \\frac{\\hbar^2}{2m}\\nabla^2 \\varphi(\\vec{r})\\chi(t) + V(\\vec{r}, t)\\varphi(\\vec{r})\\chi(t)$$\n",
    "\n",
    "Veja que a derivada temporal não vai atuar sobre $\\varphi(\\vec{r})$, assim como o laplaciano não atua sobre a função temporal $\\chi(t)$. Veja que com isso podemos tomar a derivada total na dimensão de tempo, o que justifica a mudança de notação. Assim, podemos reorganizar:\n",
    "\n",
    "$$\\varphi(\\vec{r}) \\cdot \\bigg ( i\\hbar \\frac{d \\chi(t)}{dt} \\bigg ) = \\chi(t) \\cdot \\bigg ( - \\frac{\\hbar^2}{2m}\\nabla^2 \\varphi(\\vec{r}) + V(\\vec{r}, t)\\varphi(\\vec{r})\\bigg )$$\n",
    "\n",
    "* __Passo 3:__ Vamos dividir ambos os lados por $\\varphi(\\vec{r})\\chi(t)$.\n",
    "\n",
    "$$\\frac{1}{\\varphi(\\vec{r})\\chi(t)} \\cdot \\Bigg [ \\varphi(\\vec{r}) \\cdot \\bigg ( i\\hbar \\frac{d \\chi(t)}{d t} \\bigg )\\Bigg] = \\frac{1}{\\varphi(\\vec{r})\\chi(t)} \\cdot \\Bigg [ \\chi(t) \\cdot \\bigg ( - \\frac{\\hbar^2}{2m}\\nabla^2 \\varphi(\\vec{r}) + V(\\vec{r}, t)\\varphi(\\vec{r})\\bigg ) \\Bigg ]$$\n",
    "\n",
    "E basta cancelar o que for possível\n",
    "\n",
    "$$\\frac{1}{\\textcolor{yellow}{\\cancel{\\varphi(\\vec{r})}}\\chi(t)} \\cdot \\Bigg [ \\textcolor{yellow}{\\cancel{\\varphi(\\vec{r})}} \\cdot \\bigg ( i\\hbar \\frac{d \\chi(t)}{d t} \\bigg )\\Bigg] = \\frac{1}{\\varphi(\\vec{r})\\textcolor{cyan}{\\cancel{\\chi(t)}}} \\cdot \\Bigg [ \\textcolor{cyan}{\\cancel{\\chi(t)}} \\cdot \\bigg ( - \\frac{\\hbar^2}{2m}\\nabla^2 \\varphi(\\vec{r}) + V(\\vec{r}, t)\\textcolor{yellow}{\\cancel{\\varphi(\\vec{r})}}\\bigg ) \\Bigg ]$$\n",
    "\n",
    "\n",
    "Resultando em:\n",
    "\n",
    "$$ \\frac{1}{\\chi(t)} i\\hbar \\frac{d \\chi(t)}{d t} = - \\frac{1}{\\varphi(\\vec{r})} \\frac{\\hbar^2}{2m}\\nabla^2 \\varphi(\\vec{r}) + V(\\vec{r}, t)$$\n",
    "\n",
    "* __Passo 5:__ O que vemos é que, desde que o potencial seja independente do tempo, podemos separar as variáveis. Então, assumindo que $V(\\vec{r}, t) \\equiv V(\\vec{r})$, teremos o regime de separação de variáveis para a equação de Schrödinger. __Estados estacionários__ são aqueles onde a densidade de probabilidade não depende do tempo. Matematicamente esses estados garantem que a função de onda total $\\psi(\\vec{r}, t)$ pode ser escrita como produto de duas funções, uma que só depende das coordenadas espaciais $\\varphi(\\vec{r})$ e uma que só depende do tempo $\\chi(t)$ (esta última também é conhecida como fase temporal).\n",
    "\n",
    "* __Passo 6:__ Continuando a busca pela solução, basta seguir como de praxe no método de separação de variáveis.\n",
    "\n",
    "Temos agora duas equações que podem ser resolvidas independentemente I e II. \n",
    "\n",
    "I) $\\frac{1}{\\chi(t)}i\\hbar \\frac{d \\chi(t)}{dt} = E$\n",
    "\n",
    "II) $- \\frac{1}{\\varphi(\\vec{r})} \\frac{\\hbar^2}{2m}\\nabla^2 \\varphi(\\vec{r}) + V(\\vec{r}) = E$\n",
    "\n",
    "* __Passo 7:__ Para a equação I, é fácil encontrar a solução:\n",
    "\n",
    "$$\\frac{1}{\\chi(t)}i\\hbar \\frac{d \\chi(t)}{dt} = E$$\n",
    "\n",
    "Se reorganizarmos vamos mostrar que essa é uma equação diferencial muito simples e de solução intuitiva:"
   ]
  },
  {
   "cell_type": "markdown",
   "metadata": {},
   "source": [
    "$$\\frac{i}{i} \\cdot i\\hbar \\frac{d \\chi(t)}{dt} = E \\chi(t) $$\n",
    "$$\\frac{d \\chi(t)}{dt} = -i\\frac{E}{\\hbar} \\chi(t) $$\n",
    "\n",
    "A solução deve ser \n",
    "\n",
    "$$\\chi(t) = Ae^{-i\\frac{E}{\\hbar}t}$$"
   ]
  },
  {
   "cell_type": "markdown",
   "metadata": {},
   "source": [
    "__👇 Aqui você pode relembrar o passo a passo da solução intuitiva da equação diferencial muito simples!__\n",
    "\n",
    "----"
   ]
  },
  {
   "cell_type": "markdown",
   "metadata": {},
   "source": [
    "Resolvendo:\n",
    "\n",
    "$$\\frac{1}{\\chi(t)}i\\hbar \\frac{d \\chi(t)}{dt} = E$$\n",
    "\n",
    "Vamos utilizar separação de variáveis e começar isolando $t$ e $\\chi(t)$:\n",
    "\n",
    "$$\\frac{1}{\\chi(t)}i\\hbar \\ d \\chi(t) = E \\ dt$$\n",
    "\n",
    "Por conveniência, vou colocar as constantes $(i\\hbar)$ no mesmo lado da equação.\n",
    "\n",
    "$$\\frac{1}{\\chi(t)} d\\chi(t) =  -i\\frac{E}{\\hbar} \\ dt $$\n",
    "\n",
    "Integrando ambos os lados:\n",
    "\n",
    "$$\\int \\frac{1}{\\chi(t)} d\\chi(t) =  \\int -i\\frac{E}{\\hbar} \\ dt$$\n",
    "\n",
    "$$\\ln \\chi(t) =  -i\\frac{E}{\\hbar} \\cdot t + C$$\n",
    "\n",
    "Para melhorar a visualização, vamos tomar a exponencial em ambos os lados:\n",
    "\n",
    "$$ \\chi(t) = e^{-i\\frac{E}{\\hbar} \\cdot \\ t + C}$$\n",
    "\n",
    "Sabemos que $e^{a + b} = e^{a}\\cdot e^{b}$. Vamos chamar $e^{C}$ de $A$.\n",
    "\n",
    "$$ \\chi(t) = e^{-i\\frac{E}{\\hbar}t}\\cdot e^{C}$$\n",
    "\n",
    "$$ \\chi(t) = Ae^{-i\\frac{E}{\\hbar}t}$$\n",
    "\n",
    "😎✅\n"
   ]
  },
  {
   "cell_type": "markdown",
   "metadata": {},
   "source": [
    "----"
   ]
  },
  {
   "cell_type": "markdown",
   "metadata": {},
   "source": [
    "* __Passo 8:__ Para a equação II, a solução depende do potencial. A função de onda total será então: \n",
    "\n",
    "$$\\psi(\\vec{r}, t) = \\varphi(\\vec{r})Ae^{-i\\frac{E}{\\hbar}t}$$\n",
    "\n",
    "que pode ser escrita, sem perda de generalidade, como:\n",
    "\n",
    "$$\\psi(\\vec{r}, t) = \\varphi(\\vec{r})e^{-i\\frac{E}{\\hbar}t}$$\n",
    "\n",
    "Essa solução é o que define um __Estado estacionário__. Estes obedecem a __equação de Schrödinger independente do tempo__:\n",
    "\n",
    "$$\\hat{H} \\ \\psi = E \\ \\psi$$"
   ]
  },
  {
   "cell_type": "markdown",
   "metadata": {},
   "source": [
    "#### __ALGUMAS DISCUSSÕES:__"
   ]
  },
  {
   "cell_type": "markdown",
   "metadata": {},
   "source": [
    "1. __Constante de separação $E$.__"
   ]
  },
  {
   "cell_type": "markdown",
   "metadata": {},
   "source": [
    "Quando defini a constante de separação usei e letra $E$. Isso é conveniente pois já sabemos que $E$ é a energia do sistema em um dado estado quântico. Podemos retomar isso observando o que chamamos de equação II.\n",
    "\n",
    "$$-\\frac{\\hbar^2}{2m}\\nabla^2 \\varphi(\\vec{r}) + V(\\vec{r})\\varphi(\\vec{r}) = E \\ \\varphi(\\vec{r})$$\n",
    "\n",
    "A essa altura, você já deve conhecer o operador Hamiltoniano. Logo, é fácil ver que temos:\n",
    "\n",
    "$$-\\frac{\\hat{p}^2}{2m} \\varphi(\\vec{r}) + \\hat{V} \\varphi(\\vec{r}) = E \\ \\varphi(\\vec{r})$$\n",
    "\n",
    "$$\\bigg (-\\frac{\\hat{p}^2}{2m} + \\hat{V} \\bigg ) \\varphi(\\vec{r}) = E \\ \\varphi(\\vec{r})$$\n",
    "\n",
    "Ou seja,\n",
    "\n",
    "$$\\hat{H} \\ \\varphi(\\vec{r}) = E \\ \\varphi(\\vec{r})$$\n",
    "\n",
    "Sabemos que o valor esperado de $\\langle \\hat{H} \\rangle$ é definido como $\\int \\psi^{*} (\\vec{r}, t) \\hat{H} \\psi(\\vec{r}, t) \\ d^3r$. Também vimos que $\\psi(\\vec{r}, t) = \\varphi(\\vec{r})e^{-i\\frac{E}{\\hbar}t}$. Assim,\n",
    "\n",
    "$$\\langle \\hat{H} \\rangle = \\int \\varphi^{*}(\\vec{r})e^{i\\frac{E}{\\hbar}t} \\ \\hat{H} \\ \\varphi(\\vec{r})e^{-i\\frac{E}{\\hbar}t} \\ d^3r$$\n",
    "\n",
    "Se $\\hat{H} \\ \\varphi(\\vec{r}) = E \\ \\varphi(\\vec{r})$, então:\n",
    "\n",
    "$$\\langle \\hat{H} \\rangle = \\int \\varphi^{*}(\\vec{r})e^{i\\frac{E}{\\hbar}t}\\  E \\ \\varphi(\\vec{r})e^{-i\\frac{E}{\\hbar}t} \\ d^3r$$\n",
    "\n",
    "Reorganizando temos: \n",
    "\n",
    "$$\\langle \\hat{H} \\rangle = \\int \\varphi^{*}(\\vec{r}) \\varphi(\\vec{r}) \\cdot e^{i\\frac{E}{\\hbar}t} e^{-i\\frac{E}{\\hbar}t} \\  E \\ \\ d^3r$$\n",
    "$$\\langle \\hat{H} \\rangle = \\int \\varphi^{*}(\\vec{r}) \\varphi(\\vec{r}) \\cdot e^{\\big(i\\frac{E}{\\hbar}t -i\\frac{E}{\\hbar}t\\big)} \\  E \\ d^3r$$\n",
    "\n",
    "Logo, \n",
    "\n",
    "$$\\langle \\hat{H} \\rangle = \\int |\\varphi(\\vec{r})|^2 \\ d^3r \\  E \\ $$\n",
    "\n",
    "como a função de onda deve ser normalizável, $\\int_{-\\infty}^{+\\infty} |\\varphi(\\vec{r})|^2 \\ d^3r = 1$.\n",
    "\n",
    "$$\\langle \\hat{H} \\rangle = E $$\n",
    "\n",
    "Com isso, mostramos que a constante de separação adotada anteriormente corresponde à energia de um estado quântico, o que justifica a conveniente escolha de $E$ como notação. Fisicamente isso impõe que E deve ser real, o que valida o argumento da próxima discussão que apresentarei. Matematicamente isso era esperado pois $\\hat{H}$ é hermitiano, e os autovalores de um operador hermitiano são sempre reais."
   ]
  },
  {
   "cell_type": "markdown",
   "metadata": {},
   "source": [
    "2. __Densidade de probabilidade em estados estacionários.__"
   ]
  },
  {
   "cell_type": "markdown",
   "metadata": {},
   "source": [
    "Pela argumentação do tópico 1, vemos que E é a energia associada a um estado quântico e deve ser um número real. Com essa descoberta, conseguimos mostrar que: dada a solução de um estado estacionário, a densidade de probabilidade associada a esse estado será independente do tempo.\n",
    "\n",
    "Dado um estado quântico descrito por:\n",
    "\n",
    "$$\\psi(\\vec{r}, t) = \\varphi(\\vec{r})\\chi(t)$$\n",
    "\n",
    "A densidade de probabilidade é obtida da seguinte maneira:\n",
    "\n",
    "$$|\\psi(\\vec{r}, t)|^2 = \\psi^{*}(\\vec{r}, t) \\cdot \\psi(\\vec{r}, t)= \\varphi^{*}(\\vec{r})\\chi^{*}(t) \\cdot \\varphi(\\vec{r})\\chi(t)$$\n",
    "$$|\\psi(\\vec{r}, t)|^2 = \\varphi^{*}(\\vec{r})\\varphi(\\vec{r}) \\cdot \\chi^{*}(t)\\chi(t)$$\n",
    "\n",
    "Sabemos que a solução para $\\chi(t)$ é a mesma para qualquer estado estacionário e vale $\\chi(t) = e^{-i\\frac{E}{\\hbar}t}$\n",
    "\n",
    "$$|\\psi(\\vec{r}, t)|^2 = \\varphi^{*}(\\vec{r})\\varphi(\\vec{r}) \\cdot e^{i\\frac{E}{\\hbar}t} \\cdot e^{-i\\frac{E}{\\hbar}t}$$\n",
    "\n",
    "É fácil ver que teremos:\n",
    "\n",
    "$$|\\psi(\\vec{r}, t)|^2 = \\varphi^{*}(\\vec{r})\\varphi(\\vec{r}) \\cdot e^{\\textcolor{yellow}{\\cancel{i\\frac{E}{\\hbar}t}}} \\cdot e^{\\textcolor{yellow}{\\cancel{-i\\frac{E}{\\hbar}t}}}$$\n",
    "\n",
    "$$|\\psi(\\vec{r}, t)|^2 = \\varphi^{*}(\\vec{r})\\varphi(\\vec{r})$$\n",
    "$$|\\psi(\\vec{r}, t)|^2 \\equiv |\\varphi(\\vec{r})|^2$$"
   ]
  },
  {
   "cell_type": "markdown",
   "metadata": {},
   "source": [
    "## __Potenciais independentes do tempo__"
   ]
  },
  {
   "cell_type": "markdown",
   "metadata": {},
   "source": [
    "Agora que vimos o que são estados estacionários e algumas das consequências associadas, vamos resolver alguns problemas clássicos que envolvem potenciais independentes do tempo."
   ]
  },
  {
   "cell_type": "markdown",
   "metadata": {},
   "source": [
    "### __Poço infinito unidimensional:__"
   ]
  },
  {
   "cell_type": "markdown",
   "metadata": {},
   "source": [
    "Dado um poço de potencial infinito de largura $L$, se adotarmos a extremidade esquerda do poço como $x = 0$ temos que: \n",
    "\n",
    "$V(x) = 0$ para $0 < x < L$\n",
    "\n",
    "$V(x) = \\infty$ para $x \\leq 0$ e para $x \\geq L$\n",
    "\n",
    "A equação para encontrar a solução que descreve os estados quânticos permitidos para uma entidade quântica confinada nesse poço é:\n",
    "\n",
    "$$-\\frac{\\hbar^2}{2m}\\frac{d^2}{dx^2}\\psi(x) = E \\psi(x)$$\n",
    "\n",
    "Veja que esta é a equação de Schrödinger quando $V(x) = 0$. Reorganizando temos:\n",
    "\n",
    "$$\\frac{d^2}{dx^2}\\psi(x) = - \\frac{2mE}{\\hbar} \\ \\psi(x)$$\n",
    "$$\\frac{d^2}{dx^2}\\psi(x) + \\frac{2mE}{\\hbar} \\ \\psi(x) = 0$$\n",
    "\n",
    "Essa é uma equação diferencial de segunda ordem com coeficientes constantes, que você já deve conhecer. Lembra muito a equação do oscilador harmônico clássico, que você verá em Dinâmica Avançada. Essa é uma das equações mais famosas da física. As soluções para essa equação serão do tipo cosseno ou seno.\n",
    "\n",
    "Vamos adotar a constante $k^2 = \\frac{2mE}{\\hbar}^2$. A adoção do termo ao quadrado é mera conveniência e será justificada adiante.\n",
    "\n",
    "$$\\frac{d^2}{dx^2}\\psi(x) + k^2 \\ \\psi(x) = 0$$\n",
    "\n",
    "Como já conhecemos a solução da equação de oscilador harmônico, sabemos que a combinação linear de cossenos e senos é solução para essa equação. Obviamente,a solução $\\psi(x) = Ae^{ikx} + Be^{-ikx}$ também pode ser adotada, mas vamos lidar com ela em outros problemas. Então nossa solução será: \n",
    "\n",
    "$$\\psi(x) = A\\cos(kx) + B\\sin(kx)$$\n",
    "\n",
    "Agora que temos as soluções, vamos aplicar as condições de contorno: $\\psi(0) = 0$ e $\\psi(L)$. Lembre também que pelo menos um dos coeficientes $A$ e $B$ deve ser diferente de 0 para que não tenhamos solução trivial.\n",
    "\n",
    "$$A\\cos(k \\cdot 0) + B\\sin(k \\cdot 0) = 0$$\n",
    "$$A\\cos(k \\cdot L) + B\\sin(k \\cdot L) = 0$$\n",
    "\n",
    "Da primeira condição temos que A = 0, pois $\\cos(0) = 1$ e $\\sin(0) = 0$. Assim, aplicando $A = 0$ na segunda condição:\n",
    "\n",
    "$$B\\sin(kL) = 0$$\n",
    "\n",
    "como $B \\neq 0$:\n",
    "\n",
    "$$\\sin(kL) = 0$$\n",
    "\n",
    "O que descobrimos com isso é que existem infinitos valores de $k$ que satisfazem essa igualdade. Sempre que $kL$ for um múltiplo inteiro de $\\pi$ a igualdade será satisfeita. Logo, os valores de $k$ devem ser:\n",
    "\n",
    "$$kL = n\\pi$$\n",
    "$$k = \\frac{n\\pi}{L}$$\n",
    "\n",
    "Vamos lembrar que $k$ também não pode ser nulo, pois isso implicaria na existência de uma energia também nula, o que não é verdade. Lembre que $k^2 = \\frac{2mE}{\\hbar^2}$. A adoção de $k^2$ garante que $\\frac{2mE}{\\hbar^2} > 0$. Esses argumentos implicam em $k$ positivo, logo: $n = 1, 2, 3, ...$. Essa é a __quantização do número de onda__. Perceba (verifique) que $k$ tem dimensão de inverso de comprimento.\n",
    "\n",
    "Assim, as soluções possíveis para uma partícula presa no poço de potencial infinito são:\n",
    "\n",
    "$$\\psi(x) = B \\sin \\bigg(\\frac{n\\pi x}{L}\\bigg)$$\n",
    "\n",
    "E as soluções para a energia, substituindo os valores de $k$, são:\n",
    "\n",
    "$$E = \\frac{\\hbar^2 k^2}{2m} = \\frac{\\hbar^2 n^2 \\pi^2}{2mL^2}$$\n"
   ]
  },
  {
   "cell_type": "markdown",
   "metadata": {},
   "source": [
    "Mas, e quanto à constante $B$? É uma constante de normalização. Podemos encontrá-la utilizando o fato de que toda função de onda deve satisfazer $\\int_{-\\infty}^{+\\infty} \\psi^{*}(x) \\psi(x) \\ dx= 1$.\n",
    "\n",
    "$$\\int_{-\\infty}^{+\\infty} \\psi^{*}(x) \\psi(x) dx= 1$$\n",
    "\n",
    "A função de onda só está definida no intervalo em que o potencial não é infinito, ou seja, entre $0 < x < L$. Nossa condição de normalização é então:\n",
    "\n",
    "$$\\int_{0}^{L} \\psi^{*}(x) \\psi(x) dx= 1$$\n",
    "$$\\int_{0}^{L} \\bigg[B \\sin \\bigg(\\frac{n\\pi x}{L}\\bigg)\\bigg]^{*} \\cdot \\bigg[B \\sin \\bigg(\\frac{n\\pi x}{L}\\bigg)\\bigg] = 1$$\n",
    "$$\\int_{0}^{L} B^2 \\sin^2 \\bigg(\\frac{n\\pi x}{L}\\bigg) = 1$$\n",
    "\n",
    "Resolvendo a integral cujo passo a passo está nas células seguintes:\n",
    "\n",
    "$$B^2 \\int_{0}^{L} \\sin^2 \\bigg(\\frac{n\\pi x}{L}\\bigg) = 1$$\n",
    "$$B^2 \\frac{L}{2} = 1$$\n",
    "\n",
    "Logo, \n",
    "\n",
    "$$B = \\sqrt \\frac{L}{2}$$\n",
    "\n",
    "A função de onda para uma entidade quântica aprisionada num __poço unidimensional de potencial infinito__ é então:\n",
    "\n",
    "$$\\boxed{\\psi(x) = \\sqrt \\frac{L}{2} \\cdot \\sin \\bigg(\\frac{n\\pi x}{L}\\bigg)}$$"
   ]
  },
  {
   "cell_type": "markdown",
   "metadata": {},
   "source": [
    "##### Passo a passo da integral $\\int_{0}^{L} B^2 \\sin^2 \\big(\\frac{n\\pi x}{L}\\big)$:\n"
   ]
  },
  {
   "cell_type": "markdown",
   "metadata": {},
   "source": [
    "\n",
    "$$B^2\\int_{0}^{L} \\sin^2 \\bigg(\\frac{n\\pi x}{L}\\bigg) \\ dx =$$\n",
    "\n",
    "Vamos fazer a substituição $u = \\frac{n\\pi x}{L}$, consequentemente, $du = \\frac{n\\pi}{L} \\ dx$. O intervalo de $0$ a $L$ será então $0$ a $n\\pi$\n",
    "\n",
    "$$B^2\\int_{0}^{n\\pi} \\sin^2 (u)  \\ \\frac{L}{n\\pi} \\ du =$$\n",
    "\n",
    "----\n",
    "Subtraindo duas famosas relações trigonométricas:\n",
    "\n",
    "$$\n",
    "\\begin{array}{rl}\n",
    "\\cos(2u) &= \\cos^2(u) - \\sin^2(u) \\\\ \n",
    "- 1 &= -\\cos^2(u) - \\sin^2(u) \\\\\n",
    "\\hline\n",
    "\\cos(2u) - 1 &= - 2\\sin^2(u)\n",
    "\\end{array}\n",
    "$$\n",
    "\n",
    "Assim, \n",
    "\n",
    "$$\\sin^2(u) = \\frac{1}{2} - \\frac{1}{2}\\cos(2u)$$\n",
    "\n",
    "----\n",
    "\n",
    "Substituindo o resultado obtido com relações trigonométricas:\n",
    "\n",
    "$$B^2\\frac{L}{n\\pi}\\bigg[\\int_{0}^{n\\pi} \\frac{1}{2} \\ du - \\int_{0}^{n\\pi}\\frac{1}{2}\\cos(2u)  \\ du\\bigg] = $$\n",
    "$$B^2\\frac{L}{n\\pi}\\bigg[\\frac{u}{2}\\bigg|_{0}^{n\\pi} - \\int_{0}^{n\\pi}\\frac{1}{2}\\cos(2u)  \\ du\\bigg] = $$\n",
    "\n",
    "----\n",
    "$\\int_{0}^{n\\pi} \\frac{1}{2}\\cos(2u) du$:\n",
    "\n",
    "Seja $h = 2u$, temos $dh = 2 \\ du$. Temos também $0<h<2\\pi n$.\n",
    "\n",
    "$$\\int_{0}^{2\\pi n} \\frac{1}{2}\\cos(h) \\ \\frac{dh}{2} =$$\n",
    "$$\\int_{0}^{2\\pi n} \\frac{1}{4}\\cos(h) \\ dh =$$\n",
    "$$\\frac{1}{4} \\int_{0}^{2\\pi n} \\cos(h) \\ dh =$$\n",
    "$$\\frac{1}{4} \\sin(h) \\bigg |_{0}^{2\\pi n} = \\frac{1}{4} [\\sin(2\\pi n) - \\sin(0)] = 0.$$\n",
    "\n",
    "----\n",
    "\n",
    "Temos então:\n",
    "\n",
    "$$B^2\\frac{L}{\\textcolor{yellow}{\\cancel{n\\pi}}}\\frac{\\textcolor{yellow}{\\cancel{n\\pi}}}{2}$$\n",
    "\n",
    "Ou seja, \n",
    "\n",
    "$$B^2\\int_{0}^{L} \\sin^2 \\bigg(\\frac{n\\pi x}{L}\\bigg) \\ dx = B^2\\frac{L}{2}$$\n",
    "\n",
    "De maneira geral,\n",
    "\n",
    "$$\\int \\sin^2(x) \\ dx = \\frac{x}{2} - \\frac{1}{4}\\sin(2x) + c$$\n"
   ]
  },
  {
   "cell_type": "markdown",
   "metadata": {},
   "source": [
    "### __Oscilador Harmônico Quântico Unidimensional:__"
   ]
  },
  {
   "cell_type": "markdown",
   "metadata": {},
   "source": [
    "#### Método algébrico: operadores escada"
   ]
  },
  {
   "cell_type": "markdown",
   "metadata": {},
   "source": []
  }
 ],
 "metadata": {
  "kernelspec": {
   "display_name": "Python 3.10.8 64-bit",
   "language": "python",
   "name": "python3"
  },
  "language_info": {
   "name": "python",
   "version": "3.10.8"
  },
  "orig_nbformat": 4,
  "vscode": {
   "interpreter": {
    "hash": "26de051ba29f2982a8de78e945f0abaf191376122a1563185a90213a26c5da77"
   }
  }
 },
 "nbformat": 4,
 "nbformat_minor": 2
}
